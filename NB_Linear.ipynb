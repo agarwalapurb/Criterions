{
  "nbformat": 4,
  "nbformat_minor": 0,
  "metadata": {
    "colab": {
      "name": "NB_Linear.ipynb",
      "provenance": [],
      "collapsed_sections": []
    },
    "kernelspec": {
      "name": "python3",
      "display_name": "Python 3"
    },
    "language_info": {
      "name": "python"
    }
  },
  "cells": [
    {
      "cell_type": "code",
      "metadata": {
        "id": "jYqpEM45WvGR"
      },
      "source": [
        "import numpy as np\n",
        "import matplotlib.pyplot as plt\n",
        "import time"
      ],
      "execution_count": 1,
      "outputs": []
    },
    {
      "cell_type": "markdown",
      "metadata": {
        "id": "EMZ9JBARaptE"
      },
      "source": [
        "##**Creating** **Dataset**\n",
        "\n",
        "**Let's say we take the linear function as:   $y = 2x + 5$**"
      ]
    },
    {
      "cell_type": "code",
      "metadata": {
        "id": "JQ5vsO2iann6"
      },
      "source": [
        "X = 20*np.array(list(set(np.random.random(size = 150).tolist())))"
      ],
      "execution_count": 2,
      "outputs": []
    },
    {
      "cell_type": "code",
      "metadata": {
        "colab": {
          "base_uri": "https://localhost:8080/"
        },
        "id": "Hb6ZLl-ZZJJr",
        "outputId": "1ca8d49b-7ef2-4ec4-a504-c89dbc783e0e"
      },
      "source": [
        "len(X)"
      ],
      "execution_count": 3,
      "outputs": [
        {
          "output_type": "execute_result",
          "data": {
            "text/plain": [
              "150"
            ]
          },
          "metadata": {},
          "execution_count": 3
        }
      ]
    },
    {
      "cell_type": "code",
      "metadata": {
        "id": "dMoHF8KZgWdB"
      },
      "source": [
        "noise = np.random.randn(len(X))\n",
        "Y = 2*X + 5 + noise"
      ],
      "execution_count": 4,
      "outputs": []
    },
    {
      "cell_type": "code",
      "metadata": {
        "colab": {
          "base_uri": "https://localhost:8080/",
          "height": 279
        },
        "id": "8CeQzs5wiBXk",
        "outputId": "19bb80a1-8d6a-4d64-b86c-d327d76f745a"
      },
      "source": [
        "plt.plot(X,Y,ls=\"\",marker='o')\n",
        "plt.xlabel(\"X\")\n",
        "plt.ylabel(\"Y\")\n",
        "plt.show()"
      ],
      "execution_count": 5,
      "outputs": [
        {
          "output_type": "display_data",
          "data": {
            "image/png": "[encoded data removed]",
            "text/plain": [
              "<Figure size 432x288 with 1 Axes>"
            ]
          },
          "metadata": {
            "needs_background": "light"
          }
        }
      ]
    },
    {
      "cell_type": "code",
      "metadata": {
        "id": "EYrmAz2xjGfY"
      },
      "source": [
        "np.save(\"X.npy\", X)\n",
        "np.save(\"Y.npy\", Y)"
      ],
      "execution_count": 6,
      "outputs": []
    },
    {
      "cell_type": "markdown",
      "metadata": {
        "id": "BIjFhDZskR8W"
      },
      "source": [
        "\n",
        "\n",
        "##**Initialising** **Parameters**"
      ]
    },
    {
      "cell_type": "code",
      "metadata": {
        "id": "5dVB0trDkbRV",
        "colab": {
          "base_uri": "https://localhost:8080/"
        },
        "outputId": "706ec80f-1fcd-4be6-a268-622459d1724f"
      },
      "source": [
        "# Assume y = mx + c\n",
        "m = np.random.rand()\n",
        "c = np.random.rand()\n",
        "\n",
        "print(m,c)"
      ],
      "execution_count": 7,
      "outputs": [
        {
          "output_type": "stream",
          "text": [
            "0.5126383130808708 0.36538253256489284\n"
          ],
          "name": "stdout"
        }
      ]
    },
    {
      "cell_type": "markdown",
      "metadata": {
        "id": "NXCeAO8BVKFD"
      },
      "source": [
        "0.09957579053833365 0.8388527009794375"
      ]
    },
    {
      "cell_type": "markdown",
      "metadata": {
        "id": "ZTbBigMoZ1EM"
      },
      "source": [
        "##**Linear Regression using |x -  x̂|³ as loss**"
      ]
    },
    {
      "cell_type": "code",
      "metadata": {
        "colab": {
          "base_uri": "https://localhost:8080/"
        },
        "id": "YPoanzBvsLT8",
        "outputId": "181b413f-1c80-4c5d-bb6f-eea03df86e8a"
      },
      "source": [
        "a = m\n",
        "b = c\n",
        "\n",
        "epochs = 200000\n",
        "learning_rate = 5e-7\n",
        "batch_size = 10\n",
        "\n",
        "loss1 = []\n",
        "l = 0\n",
        "\n",
        "start = time.time()\n",
        "\n",
        "for i in range(epochs):\n",
        "  l = 0  \n",
        "  for j in range(int(len(X)/batch_size)):\n",
        "    da=0\n",
        "    db=0\n",
        "    for k in range(j*batch_size,(j+1)*batch_size):\n",
        "      pred = a*X[k]+b\n",
        "      if pred>Y[k]:\n",
        "        l += (pred-Y[k])**3\n",
        "        da += 3*((pred-Y[k])**2)*X[k]\n",
        "        db += 3*((pred-Y[k])**2)\n",
        "      else:\n",
        "        l += (Y[k]-pred)**3\n",
        "        da += -3*((pred-Y[k])**2)*X[k]\n",
        "        db += -3*((pred-Y[k])**2)\n",
        "    a = a - learning_rate*da\n",
        "    b = b - learning_rate*db\n",
        "  loss1.append(l)\n",
        "\n",
        "\n",
        "print(\"Time taken - {}\".format(time.time()-start))"
      ],
      "execution_count": 8,
      "outputs": [
        {
          "output_type": "stream",
          "text": [
            "Time taken - 129.81337213516235\n"
          ],
          "name": "stdout"
        }
      ]
    },
    {
      "cell_type": "code",
      "metadata": {
        "colab": {
          "base_uri": "https://localhost:8080/"
        },
        "id": "WnTudoNSvI9-",
        "outputId": "8720027a-2692-4790-af01-e825fb5e4f79"
      },
      "source": [
        "a1 = a\n",
        "b1 = b\n",
        "print(a1,b1)"
      ],
      "execution_count": 9,
      "outputs": [
        {
          "output_type": "stream",
          "text": [
            "1.9852415448235405 5.154032743843985\n"
          ],
          "name": "stdout"
        }
      ]
    },
    {
      "cell_type": "code",
      "metadata": {
        "colab": {
          "base_uri": "https://localhost:8080/",
          "height": 279
        },
        "id": "Yeh2QLDgpW-1",
        "outputId": "683631ef-2322-422c-f1a5-417d8c00981b"
      },
      "source": [
        "plt.plot(X,Y,ls=\"\",marker='o')\n",
        "plt.xlabel(\"X\")\n",
        "plt.ylabel(\"Y\")\n",
        "plt.plot(X,a1*X+b1,color='red',linewidth=3)\n",
        "plt.legend(['Actual','Predicted'])\n",
        "plt.show()"
      ],
      "execution_count": 10,
      "outputs": [
        {
          "output_type": "display_data",
          "data": {
            "image/png": "[encoded data removed]",
            "text/plain": [
              "<Figure size 432x288 with 1 Axes>"
            ]
          },
          "metadata": {
            "needs_background": "light"
          }
        }
      ]
    },
    {
      "cell_type": "markdown",
      "metadata": {
        "id": "ERR3vnTDwkRL"
      },
      "source": [
        "##**Linear Regression using |x -  x̂| as loss**"
      ]
    },
    {
      "cell_type": "code",
      "metadata": {
        "colab": {
          "base_uri": "https://localhost:8080/"
        },
        "id": "3F5EBoRcwwG5",
        "outputId": "150ea08e-61d9-4661-8ba4-d147fd280353"
      },
      "source": [
        "a = m\n",
        "b = c\n",
        "\n",
        "epochs2 = 200000\n",
        "learning_rate = 1e-5\n",
        "batch_size = 10\n",
        "\n",
        "loss2 = []\n",
        "l = 0\n",
        "\n",
        "start = time.time()\n",
        "\n",
        "for i in range(epochs2):\n",
        "  l = 0  \n",
        " \n",
        "  for j in range(int(len(X)/batch_size)):\n",
        "    da=0\n",
        "    db=0\n",
        "    for k in range(j*batch_size,(j+1)*batch_size):\n",
        "      pred = a*X[k]+b\n",
        "      if pred>Y[k]:\n",
        "        l += (pred-Y[k])\n",
        "        da += X[k]\n",
        "        db += 1\n",
        "      else:\n",
        "        l += (Y[k]-pred)\n",
        "        da += -X[k]\n",
        "        db += -1\n",
        "    a = a - learning_rate*da\n",
        "    b = b - learning_rate*db\n",
        "  loss2.append(l)\n",
        "\n",
        "\n",
        "print(\"Time taken - {}\".format(time.time()-start))"
      ],
      "execution_count": 11,
      "outputs": [
        {
          "output_type": "stream",
          "text": [
            "Time taken - 54.75385546684265\n"
          ],
          "name": "stdout"
        }
      ]
    },
    {
      "cell_type": "code",
      "metadata": {
        "colab": {
          "base_uri": "https://localhost:8080/"
        },
        "id": "qGJqqKLdw_Xi",
        "outputId": "8d22a6e4-b8f2-4f3e-e730-c84be337e85a"
      },
      "source": [
        "a2 = a\n",
        "b2 = b\n",
        "print(a2,b2)"
      ],
      "execution_count": 12,
      "outputs": [
        {
          "output_type": "stream",
          "text": [
            "1.9896859387314234 5.094822532570816\n"
          ],
          "name": "stdout"
        }
      ]
    },
    {
      "cell_type": "code",
      "metadata": {
        "colab": {
          "base_uri": "https://localhost:8080/",
          "height": 279
        },
        "id": "5Aam_b4sxKBB",
        "outputId": "47865422-0f74-4c12-acec-5d12e99adecc"
      },
      "source": [
        "plt.plot(X,Y,ls=\"\",marker='o')\n",
        "plt.xlabel(\"X\")\n",
        "plt.ylabel(\"Y\")\n",
        "plt.plot(X,a2*X+b2,color='red',linewidth=3)\n",
        "plt.legend(['Actual','Predicted'])\n",
        "plt.show()"
      ],
      "execution_count": 13,
      "outputs": [
        {
          "output_type": "display_data",
          "data": {
            "image/png": "[encoded data removed]",
            "text/plain": [
              "<Figure size 432x288 with 1 Axes>"
            ]
          },
          "metadata": {
            "needs_background": "light"
          }
        }
      ]
    },
    {
      "cell_type": "markdown",
      "metadata": {
        "id": "3UdYw207HdOP"
      },
      "source": [
        "##**Loss** **Graphs**"
      ]
    },
    {
      "cell_type": "code",
      "metadata": {
        "colab": {
          "base_uri": "https://localhost:8080/",
          "height": 521
        },
        "id": "rKX05m0HBwjy",
        "outputId": "b6e9293c-9179-45c7-e4f3-31e885421eb0"
      },
      "source": [
        "plt.plot(range(epochs),loss1)\n",
        "plt.ylim((0,5000))\n",
        "plt.show()\n",
        "plt.plot(range(epochs2),loss2)\n",
        "plt.ylim((0,5000))\n",
        "plt.show()"
      ],
      "execution_count": 14,
      "outputs": [
        {
          "output_type": "display_data",
          "data": {
            "image/png": "[encoded data removed]",
            "text/plain": [
              "<Figure size 432x288 with 1 Axes>"
            ]
          },
          "metadata": {
            "needs_background": "light"
          }
        },
        {
          "output_type": "display_data",
          "data": {
            "image/png": "[encoded data removed]",
            "text/plain": [
              "<Figure size 432x288 with 1 Axes>"
            ]
          },
          "metadata": {
            "needs_background": "light"
          }
        }
      ]
    },
    {
      "cell_type": "code",
      "metadata": {
        "id": "aDsU-JncTJ3a"
      },
      "source": [
        ""
      ],
      "execution_count": null,
      "outputs": []
    },
    {
      "cell_type": "code",
      "metadata": {
        "id": "vW9SV8btTJ66"
      },
      "source": [
        ""
      ],
      "execution_count": null,
      "outputs": []
    },
    {
      "cell_type": "code",
      "metadata": {
        "colab": {
          "base_uri": "https://localhost:8080/",
          "height": 265
        },
        "id": "sWiW0GvKJZRC",
        "outputId": "5a2f69bd-574a-4c18-c366-21e8122c2c51"
      },
      "source": [
        "plt.plot(2,5,marker='o')\n",
        "plt.plot(a1,b1,marker='o',color='red')\n",
        "plt.plot(a2,b2,marker='o',color='green')\n",
        "plt.xlim([1.5,2.5])\n",
        "plt.ylim([4.5,5.5])\n",
        "plt.show()"
      ],
      "execution_count": 21,
      "outputs": [
        {
          "output_type": "display_data",
          "data": {
            "image/png": "[encoded data removed]",
            "text/plain": [
              "<Figure size 432x288 with 1 Axes>"
            ]
          },
          "metadata": {
            "needs_background": "light"
          }
        }
      ]
    }
  ]
}